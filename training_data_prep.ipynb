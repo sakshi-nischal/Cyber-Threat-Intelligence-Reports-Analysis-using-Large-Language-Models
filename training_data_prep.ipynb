{
 "cells": [
  {
   "cell_type": "code",
   "execution_count": 1,
   "metadata": {},
   "outputs": [],
   "source": [
    "import pandas as pd"
   ]
  },
  {
   "cell_type": "code",
   "execution_count": 2,
   "metadata": {},
   "outputs": [
    {
     "name": "stdout",
     "output_type": "stream",
     "text": [
      "Requirement already satisfied: openpyxl in /system/conda/miniconda3/envs/cloudspace/lib/python3.10/site-packages (3.1.2)\n",
      "Requirement already satisfied: et-xmlfile in /system/conda/miniconda3/envs/cloudspace/lib/python3.10/site-packages (from openpyxl) (1.1.0)\n"
     ]
    }
   ],
   "source": [
    "!pip install openpyxl"
   ]
  },
  {
   "cell_type": "code",
   "execution_count": 2,
   "metadata": {},
   "outputs": [],
   "source": [
    "df = pd.read_excel('/teamspace/studios/this_studio/enterprise-attack-v14.1-techniques.xlsx')"
   ]
  },
  {
   "cell_type": "code",
   "execution_count": 3,
   "metadata": {},
   "outputs": [
    {
     "data": {
      "text/plain": [
       "Index(['ID', 'STIX ID', 'name', 'description', 'url', 'created',\n",
       "       'last modified', 'domain', 'version', 'tactics', 'detection',\n",
       "       'platforms', 'data sources', 'is sub-technique', 'sub-technique of',\n",
       "       'defenses bypassed', 'contributors', 'permissions required',\n",
       "       'supports remote', 'system requirements', 'impact type',\n",
       "       'effective permissions', 'relationship citations'],\n",
       "      dtype='object')"
      ]
     },
     "execution_count": 3,
     "metadata": {},
     "output_type": "execute_result"
    }
   ],
   "source": [
    "df.columns"
   ]
  },
  {
   "cell_type": "code",
   "execution_count": 4,
   "metadata": {},
   "outputs": [
    {
     "data": {
      "text/html": [
       "<div>\n",
       "<style scoped>\n",
       "    .dataframe tbody tr th:only-of-type {\n",
       "        vertical-align: middle;\n",
       "    }\n",
       "\n",
       "    .dataframe tbody tr th {\n",
       "        vertical-align: top;\n",
       "    }\n",
       "\n",
       "    .dataframe thead th {\n",
       "        text-align: right;\n",
       "    }\n",
       "</style>\n",
       "<table border=\"1\" class=\"dataframe\">\n",
       "  <thead>\n",
       "    <tr style=\"text-align: right;\">\n",
       "      <th></th>\n",
       "      <th>ID</th>\n",
       "      <th>name</th>\n",
       "      <th>description</th>\n",
       "      <th>detection</th>\n",
       "    </tr>\n",
       "  </thead>\n",
       "  <tbody>\n",
       "    <tr>\n",
       "      <th>0</th>\n",
       "      <td>T1548</td>\n",
       "      <td>Abuse Elevation Control Mechanism</td>\n",
       "      <td>Adversaries may circumvent mechanisms designed...</td>\n",
       "      <td>Monitor the file system for files that have th...</td>\n",
       "    </tr>\n",
       "    <tr>\n",
       "      <th>1</th>\n",
       "      <td>T1548.002</td>\n",
       "      <td>Abuse Elevation Control Mechanism: Bypass User...</td>\n",
       "      <td>Adversaries may bypass UAC mechanisms to eleva...</td>\n",
       "      <td>There are many ways to perform UAC bypasses wh...</td>\n",
       "    </tr>\n",
       "    <tr>\n",
       "      <th>2</th>\n",
       "      <td>T1548.004</td>\n",
       "      <td>Abuse Elevation Control Mechanism: Elevated Ex...</td>\n",
       "      <td>Adversaries may leverage the &lt;code&gt;Authorizati...</td>\n",
       "      <td>Consider monitoring for &lt;code&gt;/usr/libexec/sec...</td>\n",
       "    </tr>\n",
       "    <tr>\n",
       "      <th>3</th>\n",
       "      <td>T1548.001</td>\n",
       "      <td>Abuse Elevation Control Mechanism: Setuid and ...</td>\n",
       "      <td>An adversary may abuse configurations where an...</td>\n",
       "      <td>Monitor the file system for files that have th...</td>\n",
       "    </tr>\n",
       "    <tr>\n",
       "      <th>4</th>\n",
       "      <td>T1548.003</td>\n",
       "      <td>Abuse Elevation Control Mechanism: Sudo and Su...</td>\n",
       "      <td>Adversaries may perform sudo caching and/or us...</td>\n",
       "      <td>On Linux, auditd can alert every time a user's...</td>\n",
       "    </tr>\n",
       "  </tbody>\n",
       "</table>\n",
       "</div>"
      ],
      "text/plain": [
       "          ID                                               name  \\\n",
       "0      T1548                  Abuse Elevation Control Mechanism   \n",
       "1  T1548.002  Abuse Elevation Control Mechanism: Bypass User...   \n",
       "2  T1548.004  Abuse Elevation Control Mechanism: Elevated Ex...   \n",
       "3  T1548.001  Abuse Elevation Control Mechanism: Setuid and ...   \n",
       "4  T1548.003  Abuse Elevation Control Mechanism: Sudo and Su...   \n",
       "\n",
       "                                         description  \\\n",
       "0  Adversaries may circumvent mechanisms designed...   \n",
       "1  Adversaries may bypass UAC mechanisms to eleva...   \n",
       "2  Adversaries may leverage the <code>Authorizati...   \n",
       "3  An adversary may abuse configurations where an...   \n",
       "4  Adversaries may perform sudo caching and/or us...   \n",
       "\n",
       "                                           detection  \n",
       "0  Monitor the file system for files that have th...  \n",
       "1  There are many ways to perform UAC bypasses wh...  \n",
       "2  Consider monitoring for <code>/usr/libexec/sec...  \n",
       "3  Monitor the file system for files that have th...  \n",
       "4  On Linux, auditd can alert every time a user's...  "
      ]
     },
     "execution_count": 4,
     "metadata": {},
     "output_type": "execute_result"
    }
   ],
   "source": [
    "df[['ID','name','description', 'detection']].head(5)"
   ]
  },
  {
   "cell_type": "code",
   "execution_count": 5,
   "metadata": {},
   "outputs": [
    {
     "data": {
      "text/plain": [
       "625"
      ]
     },
     "execution_count": 5,
     "metadata": {},
     "output_type": "execute_result"
    }
   ],
   "source": [
    "df['ID'].nunique()"
   ]
  },
  {
   "cell_type": "code",
   "execution_count": 6,
   "metadata": {},
   "outputs": [
    {
     "data": {
      "text/plain": [
       "625"
      ]
     },
     "execution_count": 6,
     "metadata": {},
     "output_type": "execute_result"
    }
   ],
   "source": [
    "df['name'].nunique()"
   ]
  },
  {
   "cell_type": "code",
   "execution_count": 7,
   "metadata": {},
   "outputs": [
    {
     "data": {
      "text/plain": [
       "625"
      ]
     },
     "execution_count": 7,
     "metadata": {},
     "output_type": "execute_result"
    }
   ],
   "source": [
    "df['description'].nunique()"
   ]
  },
  {
   "cell_type": "code",
   "execution_count": 8,
   "metadata": {},
   "outputs": [],
   "source": [
    "columns_to_use = ['ID','name','description','detection']\n",
    "data_frame = df[columns_to_use]"
   ]
  },
  {
   "cell_type": "code",
   "execution_count": 9,
   "metadata": {},
   "outputs": [
    {
     "data": {
      "text/plain": [
       "ID              0\n",
       "name            0\n",
       "description     0\n",
       "detection      43\n",
       "dtype: int64"
      ]
     },
     "execution_count": 9,
     "metadata": {},
     "output_type": "execute_result"
    }
   ],
   "source": [
    "data_frame.isnull().sum()"
   ]
  },
  {
   "cell_type": "code",
   "execution_count": 10,
   "metadata": {},
   "outputs": [
    {
     "name": "stderr",
     "output_type": "stream",
     "text": [
      "/tmp/ipykernel_7505/1710917361.py:1: SettingWithCopyWarning: \n",
      "A value is trying to be set on a copy of a slice from a DataFrame\n",
      "\n",
      "See the caveats in the documentation: https://pandas.pydata.org/pandas-docs/stable/user_guide/indexing.html#returning-a-view-versus-a-copy\n",
      "  data_frame.fillna('blank', inplace=True)\n"
     ]
    }
   ],
   "source": [
    "data_frame.fillna('blank', inplace=True)"
   ]
  },
  {
   "cell_type": "code",
   "execution_count": 11,
   "metadata": {},
   "outputs": [
    {
     "data": {
      "text/plain": [
       "ID             0\n",
       "name           0\n",
       "description    0\n",
       "detection      0\n",
       "dtype: int64"
      ]
     },
     "execution_count": 11,
     "metadata": {},
     "output_type": "execute_result"
    }
   ],
   "source": [
    "data_frame.isnull().sum()"
   ]
  },
  {
   "cell_type": "code",
   "execution_count": 12,
   "metadata": {},
   "outputs": [],
   "source": [
    "data_frame.to_csv('tech-training.csv')"
   ]
  },
  {
   "cell_type": "code",
   "execution_count": 9,
   "metadata": {},
   "outputs": [],
   "source": [
    "df = pd.read_csv('tech-training.csv')"
   ]
  },
  {
   "cell_type": "code",
   "execution_count": 10,
   "metadata": {},
   "outputs": [
    {
     "data": {
      "text/html": [
       "<div>\n",
       "<style scoped>\n",
       "    .dataframe tbody tr th:only-of-type {\n",
       "        vertical-align: middle;\n",
       "    }\n",
       "\n",
       "    .dataframe tbody tr th {\n",
       "        vertical-align: top;\n",
       "    }\n",
       "\n",
       "    .dataframe thead th {\n",
       "        text-align: right;\n",
       "    }\n",
       "</style>\n",
       "<table border=\"1\" class=\"dataframe\">\n",
       "  <thead>\n",
       "    <tr style=\"text-align: right;\">\n",
       "      <th></th>\n",
       "      <th>Unnamed: 0</th>\n",
       "      <th>ID</th>\n",
       "      <th>name</th>\n",
       "      <th>description</th>\n",
       "      <th>detection</th>\n",
       "    </tr>\n",
       "  </thead>\n",
       "  <tbody>\n",
       "    <tr>\n",
       "      <th>0</th>\n",
       "      <td>0</td>\n",
       "      <td>T1548</td>\n",
       "      <td>Abuse Elevation Control Mechanism</td>\n",
       "      <td>Adversaries may circumvent mechanisms designed...</td>\n",
       "      <td>Monitor the file system for files that have th...</td>\n",
       "    </tr>\n",
       "    <tr>\n",
       "      <th>1</th>\n",
       "      <td>1</td>\n",
       "      <td>T1548.002</td>\n",
       "      <td>Abuse Elevation Control Mechanism: Bypass User...</td>\n",
       "      <td>Adversaries may bypass UAC mechanisms to eleva...</td>\n",
       "      <td>There are many ways to perform UAC bypasses wh...</td>\n",
       "    </tr>\n",
       "    <tr>\n",
       "      <th>2</th>\n",
       "      <td>2</td>\n",
       "      <td>T1548.004</td>\n",
       "      <td>Abuse Elevation Control Mechanism: Elevated Ex...</td>\n",
       "      <td>Adversaries may leverage the &lt;code&gt;Authorizati...</td>\n",
       "      <td>Consider monitoring for &lt;code&gt;/usr/libexec/sec...</td>\n",
       "    </tr>\n",
       "    <tr>\n",
       "      <th>3</th>\n",
       "      <td>3</td>\n",
       "      <td>T1548.001</td>\n",
       "      <td>Abuse Elevation Control Mechanism: Setuid and ...</td>\n",
       "      <td>An adversary may abuse configurations where an...</td>\n",
       "      <td>Monitor the file system for files that have th...</td>\n",
       "    </tr>\n",
       "    <tr>\n",
       "      <th>4</th>\n",
       "      <td>4</td>\n",
       "      <td>T1548.003</td>\n",
       "      <td>Abuse Elevation Control Mechanism: Sudo and Su...</td>\n",
       "      <td>Adversaries may perform sudo caching and/or us...</td>\n",
       "      <td>On Linux, auditd can alert every time a user's...</td>\n",
       "    </tr>\n",
       "  </tbody>\n",
       "</table>\n",
       "</div>"
      ],
      "text/plain": [
       "   Unnamed: 0         ID                                               name  \\\n",
       "0           0      T1548                  Abuse Elevation Control Mechanism   \n",
       "1           1  T1548.002  Abuse Elevation Control Mechanism: Bypass User...   \n",
       "2           2  T1548.004  Abuse Elevation Control Mechanism: Elevated Ex...   \n",
       "3           3  T1548.001  Abuse Elevation Control Mechanism: Setuid and ...   \n",
       "4           4  T1548.003  Abuse Elevation Control Mechanism: Sudo and Su...   \n",
       "\n",
       "                                         description  \\\n",
       "0  Adversaries may circumvent mechanisms designed...   \n",
       "1  Adversaries may bypass UAC mechanisms to eleva...   \n",
       "2  Adversaries may leverage the <code>Authorizati...   \n",
       "3  An adversary may abuse configurations where an...   \n",
       "4  Adversaries may perform sudo caching and/or us...   \n",
       "\n",
       "                                           detection  \n",
       "0  Monitor the file system for files that have th...  \n",
       "1  There are many ways to perform UAC bypasses wh...  \n",
       "2  Consider monitoring for <code>/usr/libexec/sec...  \n",
       "3  Monitor the file system for files that have th...  \n",
       "4  On Linux, auditd can alert every time a user's...  "
      ]
     },
     "execution_count": 10,
     "metadata": {},
     "output_type": "execute_result"
    }
   ],
   "source": [
    "df.head(5)"
   ]
  },
  {
   "cell_type": "code",
   "execution_count": 11,
   "metadata": {},
   "outputs": [
    {
     "data": {
      "text/plain": [
       "(625, 5)"
      ]
     },
     "execution_count": 11,
     "metadata": {},
     "output_type": "execute_result"
    }
   ],
   "source": [
    "df.shape"
   ]
  },
  {
   "cell_type": "code",
   "execution_count": 19,
   "metadata": {},
   "outputs": [
    {
     "name": "stdout",
     "output_type": "stream",
     "text": [
      "nan\n",
      "nan\n",
      "nan\n",
      "nan\n",
      "nan\n",
      "nan\n",
      "nan\n",
      "nan\n",
      "nan\n",
      "nan\n",
      "nan\n",
      "nan\n",
      "nan\n",
      "nan\n",
      "nan\n",
      "nan\n",
      "nan\n",
      "nan\n",
      "nan\n",
      "nan\n",
      "nan\n",
      "nan\n",
      "nan\n",
      "nan\n",
      "nan\n",
      "nan\n",
      "nan\n",
      "nan\n",
      "nan\n",
      "nan\n",
      "nan\n",
      "nan\n",
      "nan\n",
      "nan\n",
      "nan\n",
      "nan\n",
      "nan\n",
      "nan\n",
      "nan\n",
      "nan\n",
      "nan\n",
      "nan\n",
      "nan\n"
     ]
    }
   ],
   "source": [
    "for row_dict in df.to_dict(orient='records'):\n",
    "    a = type(row_dict['ID'])\n",
    "    b = type(row_dict['name'])\n",
    "    c = type(row_dict['detection'])\n",
    "    d = type(row_dict['description'])\n",
    "    if c is float:\n",
    "        print(row_dict['detection'])\n",
    "    \n",
    "\n",
    "\n"
   ]
  },
  {
   "cell_type": "code",
   "execution_count": null,
   "metadata": {},
   "outputs": [],
   "source": []
  }
 ],
 "metadata": {
  "kernelspec": {
   "display_name": "cloudspace",
   "language": "python",
   "name": "python3"
  },
  "language_info": {
   "codemirror_mode": {
    "name": "ipython",
    "version": 3
   },
   "file_extension": ".py",
   "mimetype": "text/x-python",
   "name": "python",
   "nbconvert_exporter": "python",
   "pygments_lexer": "ipython3",
   "version": "3.10.10"
  }
 },
 "nbformat": 4,
 "nbformat_minor": 2
}
